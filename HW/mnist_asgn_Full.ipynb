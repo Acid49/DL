{
 "cells": [
  {
   "cell_type": "code",
   "execution_count": 1,
   "id": "32ddb655-a21a-4ab9-b6ac-44b7d3d5c04e",
   "metadata": {},
   "outputs": [],
   "source": [
    "import tensorflow as tf\n",
    "import numpy as np\n",
    "import pandas as pd"
   ]
  },
  {
   "cell_type": "code",
   "execution_count": 2,
   "id": "d944b05a-2c67-46ae-af08-bbf5813fa65b",
   "metadata": {},
   "outputs": [],
   "source": [
    "import mnist # 같은 디렉토리 내에 있는 파일들 불러오는 코드\n",
    "from tensorflow.keras.utils import to_categorical # 원 핫 인코딩 하는 함수"
   ]
  },
  {
   "cell_type": "code",
   "execution_count": 3,
   "id": "5cc2fafe-c8bc-4160-96a5-b04fe515415c",
   "metadata": {},
   "outputs": [
    {
     "ename": "ValueError",
     "evalue": "cannot reshape array of size 9912406 into shape (28,28)",
     "output_type": "error",
     "traceback": [
      "\u001b[1;31m---------------------------------------------------------------------------\u001b[0m",
      "\u001b[1;31mValueError\u001b[0m                                Traceback (most recent call last)",
      "\u001b[1;32mC:\\Users\\Public\\Documents\\ESTsoft\\CreatorTemp\\ipykernel_579340\\3674234861.py\u001b[0m in \u001b[0;36m<module>\u001b[1;34m\u001b[0m\n\u001b[0;32m      1\u001b[0m \u001b[1;31m# 학습용과 테스트용 데이터 나눠서 받아옴\u001b[0m\u001b[1;33m\u001b[0m\u001b[1;33m\u001b[0m\u001b[1;33m\u001b[0m\u001b[0m\n\u001b[1;32m----> 2\u001b[1;33m \u001b[1;33m(\u001b[0m\u001b[0mx_train\u001b[0m\u001b[1;33m,\u001b[0m \u001b[0my_train\u001b[0m\u001b[1;33m)\u001b[0m\u001b[1;33m,\u001b[0m \u001b[1;33m(\u001b[0m\u001b[0mx_test\u001b[0m\u001b[1;33m,\u001b[0m \u001b[0my_test\u001b[0m\u001b[1;33m)\u001b[0m \u001b[1;33m=\u001b[0m \u001b[0mmnist\u001b[0m\u001b[1;33m.\u001b[0m\u001b[0mload_data\u001b[0m\u001b[1;33m(\u001b[0m\u001b[1;33m)\u001b[0m\u001b[1;33m\u001b[0m\u001b[1;33m\u001b[0m\u001b[0m\n\u001b[0m\u001b[0;32m      3\u001b[0m \u001b[1;33m\u001b[0m\u001b[0m\n\u001b[0;32m      4\u001b[0m \u001b[1;31m# 28*28 사이즈의 이미지 6만개\u001b[0m\u001b[1;33m\u001b[0m\u001b[1;33m\u001b[0m\u001b[1;33m\u001b[0m\u001b[0m\n\u001b[0;32m      5\u001b[0m \u001b[0mprint\u001b[0m\u001b[1;33m(\u001b[0m\u001b[0mx_train\u001b[0m\u001b[1;33m.\u001b[0m\u001b[0mshape\u001b[0m\u001b[1;33m)\u001b[0m\u001b[1;33m\u001b[0m\u001b[1;33m\u001b[0m\u001b[0m\n",
      "\u001b[1;32m~\\AI\\Wed\\HW\\mnist.py\u001b[0m in \u001b[0;36mload_data\u001b[1;34m()\u001b[0m\n\u001b[0;32m     14\u001b[0m     \u001b[1;32mwith\u001b[0m \u001b[0mgzip\u001b[0m\u001b[1;33m.\u001b[0m\u001b[0mopen\u001b[0m\u001b[1;33m(\u001b[0m\u001b[0mtrain_images_path\u001b[0m\u001b[1;33m,\u001b[0m \u001b[1;34m'rb'\u001b[0m\u001b[1;33m)\u001b[0m \u001b[1;32mas\u001b[0m \u001b[0mimgpath\u001b[0m\u001b[1;33m:\u001b[0m\u001b[1;33m\u001b[0m\u001b[1;33m\u001b[0m\u001b[0m\n\u001b[0;32m     15\u001b[0m         \u001b[0mimgpath\u001b[0m\u001b[1;33m.\u001b[0m\u001b[0mread\u001b[0m\u001b[1;33m(\u001b[0m\u001b[1;36m16\u001b[0m\u001b[1;33m)\u001b[0m\u001b[1;33m\u001b[0m\u001b[1;33m\u001b[0m\u001b[0m\n\u001b[1;32m---> 16\u001b[1;33m         \u001b[0mtrain_images\u001b[0m \u001b[1;33m=\u001b[0m \u001b[0mnp\u001b[0m\u001b[1;33m.\u001b[0m\u001b[0mfromfile\u001b[0m\u001b[1;33m(\u001b[0m\u001b[0mimgpath\u001b[0m\u001b[1;33m,\u001b[0m \u001b[0mdtype\u001b[0m\u001b[1;33m=\u001b[0m\u001b[0mnp\u001b[0m\u001b[1;33m.\u001b[0m\u001b[0muint8\u001b[0m\u001b[1;33m)\u001b[0m\u001b[1;33m.\u001b[0m\u001b[0mreshape\u001b[0m\u001b[1;33m(\u001b[0m\u001b[1;33m-\u001b[0m\u001b[1;36m1\u001b[0m\u001b[1;33m,\u001b[0m \u001b[1;36m28\u001b[0m\u001b[1;33m,\u001b[0m \u001b[1;36m28\u001b[0m\u001b[1;33m)\u001b[0m\u001b[1;33m\u001b[0m\u001b[1;33m\u001b[0m\u001b[0m\n\u001b[0m\u001b[0;32m     17\u001b[0m \u001b[1;33m\u001b[0m\u001b[0m\n\u001b[0;32m     18\u001b[0m     \u001b[1;32mwith\u001b[0m \u001b[0mgzip\u001b[0m\u001b[1;33m.\u001b[0m\u001b[0mopen\u001b[0m\u001b[1;33m(\u001b[0m\u001b[0mtest_labels_path\u001b[0m\u001b[1;33m,\u001b[0m \u001b[1;34m'rb'\u001b[0m\u001b[1;33m)\u001b[0m \u001b[1;32mas\u001b[0m \u001b[0mlbpath\u001b[0m\u001b[1;33m:\u001b[0m\u001b[1;33m\u001b[0m\u001b[1;33m\u001b[0m\u001b[0m\n",
      "\u001b[1;31mValueError\u001b[0m: cannot reshape array of size 9912406 into shape (28,28)"
     ]
    }
   ],
   "source": [
    "# 학습용과 테스트용 데이터 나눠서 받아옴\n",
    "(x_train, y_train), (x_test, y_test) = mnist.load_data()\n",
    "\n",
    "# 28*28 사이즈의 이미지 6만개\n",
    "print(x_train.shape)"
   ]
  },
  {
   "cell_type": "code",
   "execution_count": 4,
   "id": "e752fd84-5fc8-4f1b-9341-0056cd37aab9",
   "metadata": {},
   "outputs": [],
   "source": [
    "# 0~255 사이의 값을 0~1 사이의 값으로 Normalization\n",
    "def convertData(x):\n",
    "    x = np.array(x/255.0, dtype=np.float32)\n",
    "    return x"
   ]
  },
  {
   "cell_type": "code",
   "execution_count": 5,
   "id": "d0957b3a-5800-49fb-bce9-a91b70f33770",
   "metadata": {},
   "outputs": [],
   "source": [
    "# Normalization\n",
    "x_train = convertData(x_train)\n",
    "x_test = convertData(x_test)\n",
    "\n",
    "# 원 핫 인코딩\n",
    "y_train = to_categorical(y_train)\n",
    "y_test = to_categorical(y_test)"
   ]
  },
  {
   "cell_type": "code",
   "execution_count": 6,
   "id": "fcd26c9c-2543-4b57-8ea8-01d28e45ca3f",
   "metadata": {},
   "outputs": [],
   "source": [
    "from tensorflow.keras.models import Sequential\n",
    "from tensorflow.keras.layers import Input, Flatten, Dense\n",
    "from tensorflow.keras.optimizers import Adam\n",
    "from tensorflow.keras.callbacks import EarlyStopping, LearningRateScheduler"
   ]
  },
  {
   "cell_type": "code",
   "execution_count": 7,
   "id": "fded3f20-9972-4632-8368-69ce62a97a3a",
   "metadata": {},
   "outputs": [],
   "source": [
    "model = Sequential([\n",
    "    # 28*28 사이즈의 흑백 이미지\n",
    "    # size, size, 흑백=1 컬러=3\n",
    "    Input(shape=(28,28,1)),\n",
    "    \n",
    "    # 입력 데이터를 1차원으로 변형\n",
    "    Flatten(),\n",
    "    # 활성화 함수로 relu 사용\n",
    "    Dense(100, activation='relu'),\n",
    "    Dense(30, activation='relu'),\n",
    "    \n",
    "    # 10개 중의 하나의 답을 찾는 것이므로\n",
    "    # 마지막 레이어의 활성화 함수는 softmax 사용\n",
    "    Dense(10, activation='softmax')\n",
    "\n",
    "])"
   ]
  },
  {
   "cell_type": "code",
   "execution_count": 8,
   "id": "17b00b26-24f6-4b9b-ad62-e12d7474fb43",
   "metadata": {},
   "outputs": [],
   "source": [
    "from tensorflow.keras.callbacks import ReduceLROnPlateau\n",
    "from tensorflow.keras.callbacks import EarlyStopping"
   ]
  },
  {
   "cell_type": "code",
   "execution_count": 9,
   "id": "fb9f4dc4-856d-48c1-89ca-719a82aaaac0",
   "metadata": {},
   "outputs": [
    {
     "name": "stdout",
     "output_type": "stream",
     "text": [
      "Epoch 1/50\n",
      "1500/1500 [==============================] - 2s 1ms/step - loss: 0.3122 - accuracy: 0.9100 - val_loss: 0.1640 - val_accuracy: 0.9543\n",
      "Epoch 2/50\n",
      "1500/1500 [==============================] - 2s 1ms/step - loss: 0.1322 - accuracy: 0.9609 - val_loss: 0.1269 - val_accuracy: 0.9622\n",
      "Epoch 3/50\n",
      "1500/1500 [==============================] - 2s 1ms/step - loss: 0.0946 - accuracy: 0.9716 - val_loss: 0.0997 - val_accuracy: 0.9695\n",
      "Epoch 4/50\n",
      "1500/1500 [==============================] - 2s 1ms/step - loss: 0.0707 - accuracy: 0.9780 - val_loss: 0.1032 - val_accuracy: 0.9697\n",
      "Epoch 5/50\n",
      "1500/1500 [==============================] - 2s 1ms/step - loss: 0.0567 - accuracy: 0.9819 - val_loss: 0.1061 - val_accuracy: 0.9685\n",
      "Epoch 6/50\n",
      "1452/1500 [============================>.] - ETA: 0s - loss: 0.0431 - accuracy: 0.9856\n",
      "Epoch 00006: ReduceLROnPlateau reducing learning rate to 0.00020000000949949026.\n",
      "1500/1500 [==============================] - 2s 1ms/step - loss: 0.0435 - accuracy: 0.9854 - val_loss: 0.1041 - val_accuracy: 0.9720\n",
      "Epoch 7/50\n",
      "1500/1500 [==============================] - 2s 1ms/step - loss: 0.0208 - accuracy: 0.9944 - val_loss: 0.0882 - val_accuracy: 0.9762\n",
      "Epoch 8/50\n",
      "1500/1500 [==============================] - 2s 1ms/step - loss: 0.0158 - accuracy: 0.9964 - val_loss: 0.0886 - val_accuracy: 0.9770\n",
      "Epoch 9/50\n",
      "1500/1500 [==============================] - 2s 1ms/step - loss: 0.0134 - accuracy: 0.9970 - val_loss: 0.0907 - val_accuracy: 0.9764\n",
      "Epoch 10/50\n",
      "1497/1500 [============================>.] - ETA: 0s - loss: 0.0113 - accuracy: 0.9976\n",
      "Epoch 00010: ReduceLROnPlateau reducing learning rate to 4.0000001899898055e-05.\n",
      "1500/1500 [==============================] - 2s 1ms/step - loss: 0.0114 - accuracy: 0.9976 - val_loss: 0.0919 - val_accuracy: 0.9758\n",
      "Epoch 11/50\n",
      "1500/1500 [==============================] - 2s 1ms/step - loss: 0.0081 - accuracy: 0.9989 - val_loss: 0.0883 - val_accuracy: 0.9774\n",
      "Epoch 12/50\n",
      "1500/1500 [==============================] - 2s 1ms/step - loss: 0.0074 - accuracy: 0.9990 - val_loss: 0.0898 - val_accuracy: 0.9775\n",
      "Epoch 00012: early stopping\n"
     ]
    }
   ],
   "source": [
    "# 다시 실행해도 같은 값 나오도록 시드값 고정\n",
    "np.random.seed(2020)\n",
    "tf.random.set_seed(2020)\n",
    "\n",
    "# patience동안 val_loss의 값이 변화가 없으면 학습률을 factor만큼 줄임\n",
    "# val_loss가 더 이상 작아지지 않으면 학습률을 줄여서 과적합 방지\n",
    "learning_rate_cb = ReduceLROnPlateau(monitor='val_loss', factor=0.2, patience= 3, mode='min', verbose=1)\n",
    "\n",
    "# patience 동안 val_loss의 값이 변화가 없으면 학습 중단\n",
    "earlystop_cb = EarlyStopping(monitor='val_loss', patience=5, mode='min', verbose=1)\n",
    "\n",
    "# optimizer로 Adam사용\n",
    "# 원 핫 인코딩을 했으므로 categorical crossentropy 사용\n",
    "model.compile(optimizer=Adam(learning_rate=0.001), loss='categorical_crossentropy', metrics=['accuracy'])\n",
    "\n",
    "# 검증 데이터를 훈련 데이터에서 0.2만큼 추출하여 사용\n",
    "# callback 함수로 학습률 조정 함수와, 미리 멈추는 함수 사용\n",
    "history = model.fit(x=x_train, y=y_train, batch_size=32, epochs=50, shuffle=True, validation_split=0.2, callbacks=[learning_rate_cb, earlystop_cb])"
   ]
  },
  {
   "cell_type": "code",
   "execution_count": 11,
   "id": "aa614e72-f787-4e57-b38d-df07bf9d8a88",
   "metadata": {},
   "outputs": [
    {
     "name": "stdout",
     "output_type": "stream",
     "text": [
      "313/313 [==============================] - 0s 866us/step - loss: 0.0770 - accuracy: 0.9798\n",
      "Test loss :  0.07701416313648224\n",
      "Test accuracy :  0.9797999858856201\n"
     ]
    },
    {
     "data": {
      "image/png": "[encoded data removed]",
      "text/plain": [
       "<Figure size 640x480 with 1 Axes>"
      ]
     },
     "metadata": {},
     "output_type": "display_data"
    }
   ],
   "source": [
    "import matplotlib.pyplot as plt\n",
    "%matplotlib inline\n",
    "\n",
    "# 검증 데이터와 학습 데이터의 학습 과정 그래프\n",
    "plt.plot(history.history['accuracy'], label='train')\n",
    "plt.plot(history.history['val_accuracy'], label='valid')\n",
    "plt.legend()\n",
    "\n",
    "# 성능 평가 테스트\n",
    "test_loss, test_acc = model.evaluate(x_test, y_test)\n",
    "\n",
    "print('Test loss : ', test_loss)\n",
    "print('Test accuracy : ', test_acc)"
   ]
  },
  {
   "cell_type": "code",
   "execution_count": null,
   "id": "1ca0a221-a679-4027-a944-352d3a926599",
   "metadata": {},
   "outputs": [],
   "source": []
  }
 ],
 "metadata": {
  "kernelspec": {
   "display_name": "deep",
   "language": "python",
   "name": "deep"
  },
  "language_info": {
   "codemirror_mode": {
    "name": "ipython",
    "version": 3
   },
   "file_extension": ".py",
   "mimetype": "text/x-python",
   "name": "python",
   "nbconvert_exporter": "python",
   "pygments_lexer": "ipython3",
   "version": "3.7.7"
  },
  "toc": {
   "base_numbering": 1,
   "nav_menu": {},
   "number_sections": true,
   "sideBar": true,
   "skip_h1_title": false,
   "title_cell": "Table of Contents",
   "title_sidebar": "Contents",
   "toc_cell": false,
   "toc_position": {},
   "toc_section_display": true,
   "toc_window_display": false
  }
 },
 "nbformat": 4,
 "nbformat_minor": 5
}
