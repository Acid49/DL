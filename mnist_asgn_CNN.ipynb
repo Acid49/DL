{
 "cells": [
  {
   "cell_type": "code",
   "execution_count": 1,
   "id": "0fe714d3-ee8f-4b93-9003-b60cd8f70fc2",
   "metadata": {},
   "outputs": [],
   "source": [
    "import tensorflow as tf\n",
    "import numpy as np\n",
    "import pandas as pd"
   ]
  },
  {
   "cell_type": "code",
   "execution_count": 2,
   "id": "1043dd32-04c0-44ec-94b7-56176fa388b8",
   "metadata": {},
   "outputs": [],
   "source": [
    "import mnist # 같은 디렉토리 내에 있ㄴ느 파일들 불러오는 코드\n",
    "from tensorflow.keras.utils import to_categorical # 원 핫 인코딩 하는 함수"
   ]
  },
  {
   "cell_type": "code",
   "execution_count": 3,
   "id": "74674a57-922a-49a3-8101-dd2eb07aba08",
   "metadata": {},
   "outputs": [
    {
     "name": "stdout",
     "output_type": "stream",
     "text": [
      "(60000, 28, 28)\n"
     ]
    }
   ],
   "source": [
    "# 학습용과 테스트용 데이터 나눠서 받아옴\n",
    "(x_train, y_train), (x_test, y_test) = mnist.load_data()\n",
    "# 28*28 사이즈의 이미지 6만개\n",
    "print(x_train.shape)"
   ]
  },
  {
   "cell_type": "code",
   "execution_count": 4,
   "id": "9e3fe1cc-6c85-4086-b171-a50f8de35f20",
   "metadata": {
    "scrolled": true
   },
   "outputs": [
    {
     "name": "stdout",
     "output_type": "stream",
     "text": [
      "[[  0   0   0   0   0   0   0   0   0   0   0   0   0   0   0   0   0   0\n",
      "    0   0   0   0   0   0   0   0   0   0]\n",
      " [  0   0   0   0   0   0   0   0   0   0   0   0   0   0   0   0   0   0\n",
      "    0   0   0   0   0   0   0   0   0   0]\n",
      " [  0   0   0   0   0   0   0   0   0   0   0   0   0   0   0   0   0   0\n",
      "    0   0   0   0   0   0   0   0   0   0]\n",
      " [  0   0   0   0   0   0   0   0   0   0   0   0   0   0   0   0   0   0\n",
      "    0   0   0   0   0   0   0   0   0   0]\n",
      " [  0   0   0   0   0   0   0   0   0   0   0   0   0   0   0   0   0   0\n",
      "    0   0   0   0   0   0   0   0   0   0]\n",
      " [  0   0   0   0   0   0   0   0   0   0   0   0   3  18  18  18 126 136\n",
      "  175  26 166 255 247 127   0   0   0   0]\n",
      " [  0   0   0   0   0   0   0   0  30  36  94 154 170 253 253 253 253 253\n",
      "  225 172 253 242 195  64   0   0   0   0]\n",
      " [  0   0   0   0   0   0   0  49 238 253 253 253 253 253 253 253 253 251\n",
      "   93  82  82  56  39   0   0   0   0   0]\n",
      " [  0   0   0   0   0   0   0  18 219 253 253 253 253 253 198 182 247 241\n",
      "    0   0   0   0   0   0   0   0   0   0]\n",
      " [  0   0   0   0   0   0   0   0  80 156 107 253 253 205  11   0  43 154\n",
      "    0   0   0   0   0   0   0   0   0   0]\n",
      " [  0   0   0   0   0   0   0   0   0  14   1 154 253  90   0   0   0   0\n",
      "    0   0   0   0   0   0   0   0   0   0]\n",
      " [  0   0   0   0   0   0   0   0   0   0   0 139 253 190   2   0   0   0\n",
      "    0   0   0   0   0   0   0   0   0   0]\n",
      " [  0   0   0   0   0   0   0   0   0   0   0  11 190 253  70   0   0   0\n",
      "    0   0   0   0   0   0   0   0   0   0]\n",
      " [  0   0   0   0   0   0   0   0   0   0   0   0  35 241 225 160 108   1\n",
      "    0   0   0   0   0   0   0   0   0   0]\n",
      " [  0   0   0   0   0   0   0   0   0   0   0   0   0  81 240 253 253 119\n",
      "   25   0   0   0   0   0   0   0   0   0]\n",
      " [  0   0   0   0   0   0   0   0   0   0   0   0   0   0  45 186 253 253\n",
      "  150  27   0   0   0   0   0   0   0   0]\n",
      " [  0   0   0   0   0   0   0   0   0   0   0   0   0   0   0  16  93 252\n",
      "  253 187   0   0   0   0   0   0   0   0]\n",
      " [  0   0   0   0   0   0   0   0   0   0   0   0   0   0   0   0   0 249\n",
      "  253 249  64   0   0   0   0   0   0   0]\n",
      " [  0   0   0   0   0   0   0   0   0   0   0   0   0   0  46 130 183 253\n",
      "  253 207   2   0   0   0   0   0   0   0]\n",
      " [  0   0   0   0   0   0   0   0   0   0   0   0  39 148 229 253 253 253\n",
      "  250 182   0   0   0   0   0   0   0   0]\n",
      " [  0   0   0   0   0   0   0   0   0   0  24 114 221 253 253 253 253 201\n",
      "   78   0   0   0   0   0   0   0   0   0]\n",
      " [  0   0   0   0   0   0   0   0  23  66 213 253 253 253 253 198  81   2\n",
      "    0   0   0   0   0   0   0   0   0   0]\n",
      " [  0   0   0   0   0   0  18 171 219 253 253 253 253 195  80   9   0   0\n",
      "    0   0   0   0   0   0   0   0   0   0]\n",
      " [  0   0   0   0  55 172 226 253 253 253 253 244 133  11   0   0   0   0\n",
      "    0   0   0   0   0   0   0   0   0   0]\n",
      " [  0   0   0   0 136 253 253 253 212 135 132  16   0   0   0   0   0   0\n",
      "    0   0   0   0   0   0   0   0   0   0]\n",
      " [  0   0   0   0   0   0   0   0   0   0   0   0   0   0   0   0   0   0\n",
      "    0   0   0   0   0   0   0   0   0   0]\n",
      " [  0   0   0   0   0   0   0   0   0   0   0   0   0   0   0   0   0   0\n",
      "    0   0   0   0   0   0   0   0   0   0]\n",
      " [  0   0   0   0   0   0   0   0   0   0   0   0   0   0   0   0   0   0\n",
      "    0   0   0   0   0   0   0   0   0   0]]\n"
     ]
    }
   ],
   "source": [
    "# normalization 하지 않았으므로 0~255 사이의 값을 가짐\n",
    "print(x_train[0])"
   ]
  },
  {
   "cell_type": "code",
   "execution_count": 5,
   "id": "66d53288-fbff-48b1-b167-c71cad0497c9",
   "metadata": {},
   "outputs": [],
   "source": [
    "# 0~255 사이의 값을 0~1 사이의 값으로 Normalization\n",
    "def convertData(x):\n",
    "    x = np.array(x/255.0, dtype=np.float32)\n",
    "    return x"
   ]
  },
  {
   "cell_type": "code",
   "execution_count": 6,
   "id": "1d62a945-c5c2-432b-a5b0-e001cc8f6f18",
   "metadata": {},
   "outputs": [],
   "source": [
    "# Normalization\n",
    "x_train = convertData(x_train)\n",
    "x_test = convertData(x_test)\n",
    "\n",
    "# 원 핫 인코딩\n",
    "y_train = to_categorical(y_train)\n",
    "y_test = to_categorical(y_test)"
   ]
  },
  {
   "cell_type": "code",
   "execution_count": 7,
   "id": "72d5b9f3-1451-4f3a-95cf-dea9f6afe46a",
   "metadata": {
    "scrolled": true
   },
   "outputs": [
    {
     "name": "stdout",
     "output_type": "stream",
     "text": [
      "[[0.         0.         0.         0.         0.         0.\n",
      "  0.         0.         0.         0.         0.         0.\n",
      "  0.         0.         0.         0.         0.         0.\n",
      "  0.         0.         0.         0.         0.         0.\n",
      "  0.         0.         0.         0.        ]\n",
      " [0.         0.         0.         0.         0.         0.\n",
      "  0.         0.         0.         0.         0.         0.\n",
      "  0.         0.         0.         0.         0.         0.\n",
      "  0.         0.         0.         0.         0.         0.\n",
      "  0.         0.         0.         0.        ]\n",
      " [0.         0.         0.         0.         0.         0.\n",
      "  0.         0.         0.         0.         0.         0.\n",
      "  0.         0.         0.         0.         0.         0.\n",
      "  0.         0.         0.         0.         0.         0.\n",
      "  0.         0.         0.         0.        ]\n",
      " [0.         0.         0.         0.         0.         0.\n",
      "  0.         0.         0.         0.         0.         0.\n",
      "  0.         0.         0.         0.         0.         0.\n",
      "  0.         0.         0.         0.         0.         0.\n",
      "  0.         0.         0.         0.        ]\n",
      " [0.         0.         0.         0.         0.         0.\n",
      "  0.         0.         0.         0.         0.         0.\n",
      "  0.         0.         0.         0.         0.         0.\n",
      "  0.         0.         0.         0.         0.         0.\n",
      "  0.         0.         0.         0.        ]\n",
      " [0.         0.         0.         0.         0.         0.\n",
      "  0.         0.         0.         0.         0.         0.\n",
      "  0.01176471 0.07058824 0.07058824 0.07058824 0.49411765 0.53333336\n",
      "  0.6862745  0.10196079 0.6509804  1.         0.96862745 0.49803922\n",
      "  0.         0.         0.         0.        ]\n",
      " [0.         0.         0.         0.         0.         0.\n",
      "  0.         0.         0.11764706 0.14117648 0.36862746 0.6039216\n",
      "  0.6666667  0.99215686 0.99215686 0.99215686 0.99215686 0.99215686\n",
      "  0.88235295 0.6745098  0.99215686 0.9490196  0.7647059  0.2509804\n",
      "  0.         0.         0.         0.        ]\n",
      " [0.         0.         0.         0.         0.         0.\n",
      "  0.         0.19215687 0.93333334 0.99215686 0.99215686 0.99215686\n",
      "  0.99215686 0.99215686 0.99215686 0.99215686 0.99215686 0.9843137\n",
      "  0.3647059  0.32156864 0.32156864 0.21960784 0.15294118 0.\n",
      "  0.         0.         0.         0.        ]\n",
      " [0.         0.         0.         0.         0.         0.\n",
      "  0.         0.07058824 0.85882354 0.99215686 0.99215686 0.99215686\n",
      "  0.99215686 0.99215686 0.7764706  0.7137255  0.96862745 0.94509804\n",
      "  0.         0.         0.         0.         0.         0.\n",
      "  0.         0.         0.         0.        ]\n",
      " [0.         0.         0.         0.         0.         0.\n",
      "  0.         0.         0.3137255  0.6117647  0.41960785 0.99215686\n",
      "  0.99215686 0.8039216  0.04313726 0.         0.16862746 0.6039216\n",
      "  0.         0.         0.         0.         0.         0.\n",
      "  0.         0.         0.         0.        ]\n",
      " [0.         0.         0.         0.         0.         0.\n",
      "  0.         0.         0.         0.05490196 0.00392157 0.6039216\n",
      "  0.99215686 0.3529412  0.         0.         0.         0.\n",
      "  0.         0.         0.         0.         0.         0.\n",
      "  0.         0.         0.         0.        ]\n",
      " [0.         0.         0.         0.         0.         0.\n",
      "  0.         0.         0.         0.         0.         0.54509807\n",
      "  0.99215686 0.74509805 0.00784314 0.         0.         0.\n",
      "  0.         0.         0.         0.         0.         0.\n",
      "  0.         0.         0.         0.        ]\n",
      " [0.         0.         0.         0.         0.         0.\n",
      "  0.         0.         0.         0.         0.         0.04313726\n",
      "  0.74509805 0.99215686 0.27450982 0.         0.         0.\n",
      "  0.         0.         0.         0.         0.         0.\n",
      "  0.         0.         0.         0.        ]\n",
      " [0.         0.         0.         0.         0.         0.\n",
      "  0.         0.         0.         0.         0.         0.\n",
      "  0.13725491 0.94509804 0.88235295 0.627451   0.42352942 0.00392157\n",
      "  0.         0.         0.         0.         0.         0.\n",
      "  0.         0.         0.         0.        ]\n",
      " [0.         0.         0.         0.         0.         0.\n",
      "  0.         0.         0.         0.         0.         0.\n",
      "  0.         0.31764707 0.9411765  0.99215686 0.99215686 0.46666667\n",
      "  0.09803922 0.         0.         0.         0.         0.\n",
      "  0.         0.         0.         0.        ]\n",
      " [0.         0.         0.         0.         0.         0.\n",
      "  0.         0.         0.         0.         0.         0.\n",
      "  0.         0.         0.1764706  0.7294118  0.99215686 0.99215686\n",
      "  0.5882353  0.10588235 0.         0.         0.         0.\n",
      "  0.         0.         0.         0.        ]\n",
      " [0.         0.         0.         0.         0.         0.\n",
      "  0.         0.         0.         0.         0.         0.\n",
      "  0.         0.         0.         0.0627451  0.3647059  0.9882353\n",
      "  0.99215686 0.73333335 0.         0.         0.         0.\n",
      "  0.         0.         0.         0.        ]\n",
      " [0.         0.         0.         0.         0.         0.\n",
      "  0.         0.         0.         0.         0.         0.\n",
      "  0.         0.         0.         0.         0.         0.9764706\n",
      "  0.99215686 0.9764706  0.2509804  0.         0.         0.\n",
      "  0.         0.         0.         0.        ]\n",
      " [0.         0.         0.         0.         0.         0.\n",
      "  0.         0.         0.         0.         0.         0.\n",
      "  0.         0.         0.18039216 0.50980395 0.7176471  0.99215686\n",
      "  0.99215686 0.8117647  0.00784314 0.         0.         0.\n",
      "  0.         0.         0.         0.        ]\n",
      " [0.         0.         0.         0.         0.         0.\n",
      "  0.         0.         0.         0.         0.         0.\n",
      "  0.15294118 0.5803922  0.8980392  0.99215686 0.99215686 0.99215686\n",
      "  0.98039216 0.7137255  0.         0.         0.         0.\n",
      "  0.         0.         0.         0.        ]\n",
      " [0.         0.         0.         0.         0.         0.\n",
      "  0.         0.         0.         0.         0.09411765 0.44705883\n",
      "  0.8666667  0.99215686 0.99215686 0.99215686 0.99215686 0.7882353\n",
      "  0.30588236 0.         0.         0.         0.         0.\n",
      "  0.         0.         0.         0.        ]\n",
      " [0.         0.         0.         0.         0.         0.\n",
      "  0.         0.         0.09019608 0.25882354 0.8352941  0.99215686\n",
      "  0.99215686 0.99215686 0.99215686 0.7764706  0.31764707 0.00784314\n",
      "  0.         0.         0.         0.         0.         0.\n",
      "  0.         0.         0.         0.        ]\n",
      " [0.         0.         0.         0.         0.         0.\n",
      "  0.07058824 0.67058825 0.85882354 0.99215686 0.99215686 0.99215686\n",
      "  0.99215686 0.7647059  0.3137255  0.03529412 0.         0.\n",
      "  0.         0.         0.         0.         0.         0.\n",
      "  0.         0.         0.         0.        ]\n",
      " [0.         0.         0.         0.         0.21568628 0.6745098\n",
      "  0.8862745  0.99215686 0.99215686 0.99215686 0.99215686 0.95686275\n",
      "  0.52156866 0.04313726 0.         0.         0.         0.\n",
      "  0.         0.         0.         0.         0.         0.\n",
      "  0.         0.         0.         0.        ]\n",
      " [0.         0.         0.         0.         0.53333336 0.99215686\n",
      "  0.99215686 0.99215686 0.83137256 0.5294118  0.5176471  0.0627451\n",
      "  0.         0.         0.         0.         0.         0.\n",
      "  0.         0.         0.         0.         0.         0.\n",
      "  0.         0.         0.         0.        ]\n",
      " [0.         0.         0.         0.         0.         0.\n",
      "  0.         0.         0.         0.         0.         0.\n",
      "  0.         0.         0.         0.         0.         0.\n",
      "  0.         0.         0.         0.         0.         0.\n",
      "  0.         0.         0.         0.        ]\n",
      " [0.         0.         0.         0.         0.         0.\n",
      "  0.         0.         0.         0.         0.         0.\n",
      "  0.         0.         0.         0.         0.         0.\n",
      "  0.         0.         0.         0.         0.         0.\n",
      "  0.         0.         0.         0.        ]\n",
      " [0.         0.         0.         0.         0.         0.\n",
      "  0.         0.         0.         0.         0.         0.\n",
      "  0.         0.         0.         0.         0.         0.\n",
      "  0.         0.         0.         0.         0.         0.\n",
      "  0.         0.         0.         0.        ]]\n"
     ]
    }
   ],
   "source": [
    "# 데이터 확인, 0~1값으로 변경된 것을 알 수 있음\n",
    "print(x_train[0])"
   ]
  },
  {
   "cell_type": "code",
   "execution_count": 8,
   "id": "bdcff339-0082-4a65-89ab-ed5079c2b43c",
   "metadata": {},
   "outputs": [
    {
     "name": "stdout",
     "output_type": "stream",
     "text": [
      "[0. 0. 0. 0. 0. 1. 0. 0. 0. 0.]\n"
     ]
    }
   ],
   "source": [
    "# 데이터 확인, 원 핫 인코딩 된 것을 알 수 있음\n",
    "print(y_train[0])"
   ]
  },
  {
   "cell_type": "code",
   "execution_count": 9,
   "id": "51eb5056-c14f-44ef-9a01-412407430c43",
   "metadata": {
    "scrolled": true
   },
   "outputs": [],
   "source": [
    "from tensorflow.keras.models import Sequential, Model\n",
    "from tensorflow.keras.layers import Conv2D, Input, Flatten, Dropout, Dense, Activation, MaxPooling2D, GlobalAveragePooling2D, BatchNormalization\n",
    "from tensorflow.keras.optimizers import Adam\n",
    "from tensorflow.keras.callbacks import EarlyStopping, LearningRateScheduler\n",
    "\n",
    "IMAGE_SIZE = len(x_train[0])\n",
    "\n",
    "# input으로 28*28*1(흑백)의 크기를 가짐\n",
    "input = Input(shape=(IMAGE_SIZE, IMAGE_SIZE, 1))\n",
    "\n",
    "# Conv2D 함수로 데이터의 특징 추출\n",
    "# 필터 32개 사용해 특징맵 32개 생성, 커널 사이즈 (3,3), padding=same으로 설정하여 이미지 사이즈 유지 \n",
    "output = Conv2D(filters=32, kernel_size=(3,3), padding='same')(input)\n",
    "\n",
    "#배치 정규화\n",
    "# 각 배치의 데이터를 평균 0, 분산 1로 정규화\n",
    "output = BatchNormalization()(output)\n",
    "output = Activation('relu')(output)\n",
    "\n",
    "\n",
    "output = Conv2D(filters=32, kernel_size=(3,3), padding='same')(output)\n",
    "output = BatchNormalization()(output)\n",
    "output = Activation('relu')(output)\n",
    "\n",
    "# 커진 특징맵 크기를 줄여 계샨량 감소, 과적합 방지\n",
    "output = MaxPooling2D(pool_size=(2,2))(output)\n",
    "\n",
    "\n",
    "output = Conv2D(filters=64, kernel_size=(3,3), padding='same')(output)\n",
    "output = BatchNormalization()(output)\n",
    "output = Activation('relu')(output)\n",
    "\n",
    "\n",
    "output = Conv2D(filters=64, kernel_size=(3,3), padding='same')(output)\n",
    "output = BatchNormalization()(output)\n",
    "output = Activation('relu')(output)\n",
    "output = MaxPooling2D(pool_size=2)(output)\n",
    "\n",
    "\n",
    "output = Conv2D(filters=128, kernel_size=3, padding='same')(output)\n",
    "output = BatchNormalization()(output)\n",
    "output = Activation('relu')(output)\n",
    "\n",
    "\n",
    "output = Conv2D(filters=128, kernel_size=3, padding='same')(output)\n",
    "output = BatchNormalization()(output)\n",
    "output = Activation('relu')(output)\n",
    "output = MaxPooling2D(pool_size=2)(output)\n",
    "\n",
    "# 은닉층 쌓기 전에 데이터 1차원으로 변경\n",
    "output = Flatten(name='flatten')(output)\n",
    "\n",
    "# 과적합 방지\n",
    "# 30%의 뉴런 무작위로 선택해 비활성화\n",
    "output = Dropout(rate=0.3)(output)\n",
    "# 은닉층 쌓음\n",
    "output = Dense(300, activation='relu', name='fc1')(output)\n",
    "output = Dropout(rate=0.3)(output)\n",
    "\n",
    "# 10개 중에 하나의 답을 고르는 것이므로 마지막 레이어의 활성화 함수는 softmax\n",
    "output = Dense(10, activation='softmax', name='output')(output)\n",
    "\n",
    "model = Model(inputs = input, outputs = output)"
   ]
  },
  {
   "cell_type": "code",
   "execution_count": 10,
   "id": "dec10237-27d3-43ee-a2b8-344895b987f9",
   "metadata": {},
   "outputs": [],
   "source": [
    "from tensorflow.keras.callbacks import ReduceLROnPlateau\n",
    "from tensorflow.keras.callbacks import EarlyStopping"
   ]
  },
  {
   "cell_type": "code",
   "execution_count": 11,
   "id": "c19c956a-b7d6-4000-ba34-e7787c50711b",
   "metadata": {},
   "outputs": [
    {
     "name": "stdout",
     "output_type": "stream",
     "text": [
      "Epoch 1/50\n",
      "1500/1500 [==============================] - 149s 100ms/step - loss: 0.1615 - accuracy: 0.9506 - val_loss: 0.0551 - val_accuracy: 0.9843\n",
      "Epoch 2/50\n",
      "1500/1500 [==============================] - 154s 103ms/step - loss: 0.0583 - accuracy: 0.9829 - val_loss: 0.0493 - val_accuracy: 0.9852\n",
      "Epoch 3/50\n",
      "1500/1500 [==============================] - 154s 103ms/step - loss: 0.0458 - accuracy: 0.9860 - val_loss: 0.0317 - val_accuracy: 0.9907\n",
      "Epoch 4/50\n",
      "1500/1500 [==============================] - 156s 104ms/step - loss: 0.0392 - accuracy: 0.9883 - val_loss: 0.0510 - val_accuracy: 0.9852\n",
      "Epoch 5/50\n",
      "1500/1500 [==============================] - 154s 103ms/step - loss: 0.0336 - accuracy: 0.9898 - val_loss: 0.0393 - val_accuracy: 0.9898\n",
      "Epoch 6/50\n",
      "1500/1500 [==============================] - 155s 103ms/step - loss: 0.0283 - accuracy: 0.9918 - val_loss: 0.0274 - val_accuracy: 0.9920\n",
      "Epoch 7/50\n",
      "1500/1500 [==============================] - 159s 106ms/step - loss: 0.0237 - accuracy: 0.9927 - val_loss: 0.0277 - val_accuracy: 0.9930\n",
      "Epoch 8/50\n",
      "1500/1500 [==============================] - 155s 103ms/step - loss: 0.0212 - accuracy: 0.9939 - val_loss: 0.0266 - val_accuracy: 0.9930\n",
      "Epoch 9/50\n",
      "1500/1500 [==============================] - 156s 104ms/step - loss: 0.0188 - accuracy: 0.9943 - val_loss: 0.0322 - val_accuracy: 0.9918\n",
      "Epoch 10/50\n",
      "1500/1500 [==============================] - 157s 105ms/step - loss: 0.0177 - accuracy: 0.9944 - val_loss: 0.0289 - val_accuracy: 0.9936\n",
      "Epoch 11/50\n",
      "1500/1500 [==============================] - ETA: 0s - loss: 0.0151 - accuracy: 0.9954\n",
      "Epoch 00011: ReduceLROnPlateau reducing learning rate to 0.00020000000949949026.\n",
      "1500/1500 [==============================] - 154s 103ms/step - loss: 0.0151 - accuracy: 0.9954 - val_loss: 0.0347 - val_accuracy: 0.9927\n",
      "Epoch 12/50\n",
      "1500/1500 [==============================] - 154s 103ms/step - loss: 0.0066 - accuracy: 0.9977 - val_loss: 0.0252 - val_accuracy: 0.9942\n",
      "Epoch 13/50\n",
      "1500/1500 [==============================] - 154s 103ms/step - loss: 0.0032 - accuracy: 0.9991 - val_loss: 0.0268 - val_accuracy: 0.9950\n",
      "Epoch 14/50\n",
      "1500/1500 [==============================] - 155s 103ms/step - loss: 0.0025 - accuracy: 0.9991 - val_loss: 0.0288 - val_accuracy: 0.9945\n",
      "Epoch 15/50\n",
      "1500/1500 [==============================] - ETA: 0s - loss: 0.0018 - accuracy: 0.9993\n",
      "Epoch 00015: ReduceLROnPlateau reducing learning rate to 4.0000001899898055e-05.\n",
      "1500/1500 [==============================] - 154s 103ms/step - loss: 0.0018 - accuracy: 0.9993 - val_loss: 0.0284 - val_accuracy: 0.9959\n",
      "Epoch 16/50\n",
      "1500/1500 [==============================] - 156s 104ms/step - loss: 0.0011 - accuracy: 0.9997 - val_loss: 0.0289 - val_accuracy: 0.9956\n",
      "Epoch 17/50\n",
      "1500/1500 [==============================] - 154s 103ms/step - loss: 9.2389e-04 - accuracy: 0.9997 - val_loss: 0.0293 - val_accuracy: 0.9958\n",
      "Epoch 00017: early stopping\n"
     ]
    }
   ],
   "source": [
    "np.random.seed(2020)\n",
    "tf.random.set_seed(2020)\n",
    "\n",
    "# patience동안 val_loss의 값이 변화가 없으면 학습률을 factor만큼 줄임\n",
    "# val_loss가 더 이상 작아지지 않으면 학습률을 줄여서 과적합 방지\n",
    "learning_rate_cb = ReduceLROnPlateau(monitor='val_loss', factor=0.2, patience= 3, mode='min', verbose=1)\n",
    "\n",
    "# patience 동안 val_loss의 값이 변화가 없으면 학습 중단\n",
    "earlystop_cb = EarlyStopping(monitor='val_loss', patience=5, mode='min', verbose=1)\n",
    "\n",
    "# optimizer로 Adam사용\n",
    "# 원 핫 인코딩을 했으므로 categorical crossentropy 사용\n",
    "model.compile(optimizer=Adam(learning_rate=0.001), loss='categorical_crossentropy', metrics=['accuracy'])\n",
    "\n",
    "# 검증 데이터를 훈련 데이터에서 0.2만큼 추출하여 사용\n",
    "# callback 함수로 학습률 조정 함수와, 미리 멈추는 함수 사용\n",
    "history = model.fit(x=x_train, y=y_train, batch_size=32, epochs=50, shuffle=True, validation_split=0.2, callbacks=[learning_rate_cb, earlystop_cb])"
   ]
  },
  {
   "cell_type": "code",
   "execution_count": 12,
   "id": "e708d4dc-71a4-4454-aff7-cf14c250de8b",
   "metadata": {},
   "outputs": [
    {
     "name": "stdout",
     "output_type": "stream",
     "text": [
      "313/313 [==============================] - 8s 25ms/step - loss: 0.0199 - accuracy: 0.9957\n"
     ]
    },
    {
     "data": {
      "text/plain": [
       "[0.019850514829158783, 0.9957000017166138]"
      ]
     },
     "execution_count": 12,
     "metadata": {},
     "output_type": "execute_result"
    },
    {
     "data": {
      "image/png": "[encoded data removed]",
      "text/plain": [
       "<Figure size 640x480 with 1 Axes>"
      ]
     },
     "metadata": {},
     "output_type": "display_data"
    }
   ],
   "source": [
    "import matplotlib.pyplot as plt\n",
    "%matplotlib inline\n",
    "\n",
    "# 검증 데이터와 학습 데이터의 학습 과정 그래프\n",
    "plt.plot(history.history['accuracy'], label='train')\n",
    "plt.plot(history.history['val_accuracy'], label='valid')\n",
    "plt.legend()\n",
    "\n",
    "# 성능 평가 테스트\n",
    "test_loss, test_acc = model.evaluate(x_test, y_test)\n",
    "\n",
    "print('Test loss : ', test_loss)\n",
    "print('Test accuracy : ', test_acc)"
   ]
  },
  {
   "cell_type": "code",
   "execution_count": null,
   "id": "bab06bba-d4cb-46ea-8a6a-07537bd49e64",
   "metadata": {},
   "outputs": [],
   "source": []
  }
 ],
 "metadata": {
  "kernelspec": {
   "display_name": "deep",
   "language": "python",
   "name": "deep"
  },
  "language_info": {
   "codemirror_mode": {
    "name": "ipython",
    "version": 3
   },
   "file_extension": ".py",
   "mimetype": "text/x-python",
   "name": "python",
   "nbconvert_exporter": "python",
   "pygments_lexer": "ipython3",
   "version": "3.7.7"
  },
  "toc": {
   "base_numbering": 1,
   "nav_menu": {},
   "number_sections": true,
   "sideBar": true,
   "skip_h1_title": false,
   "title_cell": "Table of Contents",
   "title_sidebar": "Contents",
   "toc_cell": false,
   "toc_position": {},
   "toc_section_display": true,
   "toc_window_display": false
  }
 },
 "nbformat": 4,
 "nbformat_minor": 5
}
